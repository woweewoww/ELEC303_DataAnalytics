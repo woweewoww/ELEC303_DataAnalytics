{
 "cells": [
  {
   "cell_type": "markdown",
   "id": "dcf62f16-0e7c-48d9-9559-e70bdc829caa",
   "metadata": {},
   "source": [
    "<h1>ACTIVITY 2 - UK ACCIDENT ROAD </h1>\n",
    "<hr>\n",
    "<h2>Analyst: Maricel Maribojoc</h2>"
   ]
  },
  {
   "cell_type": "markdown",
   "id": "b6dfde72-cb10-4d92-838d-f75b9eb38966",
   "metadata": {},
   "source": [
    "<h2>1. Import necessarry libraries.</h2>"
   ]
  },
  {
   "cell_type": "code",
   "execution_count": 1,
   "id": "da47a570-d6ba-4db0-a074-c478a956f765",
   "metadata": {},
   "outputs": [],
   "source": [
    "import numpy as np\n",
    "import pandas as pd\n",
    "import warnings\n",
    "import matplotlib.pyplot as plt\n",
    "warnings.filterwarnings('ignore')"
   ]
  },
  {
   "cell_type": "markdown",
   "id": "079e0ee9-4582-44f9-9abf-ea0843a02df3",
   "metadata": {},
   "source": [
    "<h2>2. Convert Dataset to DataFrame</h2>"
   ]
  },
  {
   "cell_type": "code",
   "execution_count": 2,
   "id": "be70e9a4-0626-48d6-be4b-274fd3bc1c8a",
   "metadata": {},
   "outputs": [],
   "source": [
    "road_accident = pd.read_csv('datasets\\\\uk_road_accident.csv')"
   ]
  },
  {
   "cell_type": "code",
   "execution_count": 3,
   "id": "540a00f5-f266-4004-8070-0ee7d635b734",
   "metadata": {},
   "outputs": [
    {
     "data": {
      "text/html": [
       "<div>\n",
       "<style scoped>\n",
       "    .dataframe tbody tr th:only-of-type {\n",
       "        vertical-align: middle;\n",
       "    }\n",
       "\n",
       "    .dataframe tbody tr th {\n",
       "        vertical-align: top;\n",
       "    }\n",
       "\n",
       "    .dataframe thead th {\n",
       "        text-align: right;\n",
       "    }\n",
       "</style>\n",
       "<table border=\"1\" class=\"dataframe\">\n",
       "  <thead>\n",
       "    <tr style=\"text-align: right;\">\n",
       "      <th></th>\n",
       "      <th>Index</th>\n",
       "      <th>Accident_Severity</th>\n",
       "      <th>Accident Date</th>\n",
       "      <th>Latitude</th>\n",
       "      <th>Light_Conditions</th>\n",
       "      <th>District Area</th>\n",
       "      <th>Longitude</th>\n",
       "      <th>Number_of_Casualties</th>\n",
       "      <th>Number_of_Vehicles</th>\n",
       "      <th>Road_Surface_Conditions</th>\n",
       "      <th>Road_Type</th>\n",
       "      <th>Urban_or_Rural_Area</th>\n",
       "      <th>Weather_Conditions</th>\n",
       "      <th>Vehicle_Type</th>\n",
       "    </tr>\n",
       "  </thead>\n",
       "  <tbody>\n",
       "    <tr>\n",
       "      <th>0</th>\n",
       "      <td>200701BS64157</td>\n",
       "      <td>Serious</td>\n",
       "      <td>5/6/2019</td>\n",
       "      <td>51.506187</td>\n",
       "      <td>Darkness - lights lit</td>\n",
       "      <td>Kensington and Chelsea</td>\n",
       "      <td>-0.209082</td>\n",
       "      <td>1</td>\n",
       "      <td>2</td>\n",
       "      <td>Dry</td>\n",
       "      <td>Single carriageway</td>\n",
       "      <td>Urban</td>\n",
       "      <td>Fine no high winds</td>\n",
       "      <td>Car</td>\n",
       "    </tr>\n",
       "    <tr>\n",
       "      <th>1</th>\n",
       "      <td>200701BS65737</td>\n",
       "      <td>Serious</td>\n",
       "      <td>2/7/2019</td>\n",
       "      <td>51.495029</td>\n",
       "      <td>Daylight</td>\n",
       "      <td>Kensington and Chelsea</td>\n",
       "      <td>-0.173647</td>\n",
       "      <td>1</td>\n",
       "      <td>2</td>\n",
       "      <td>Wet or damp</td>\n",
       "      <td>Single carriageway</td>\n",
       "      <td>Urban</td>\n",
       "      <td>Raining no high winds</td>\n",
       "      <td>Car</td>\n",
       "    </tr>\n",
       "    <tr>\n",
       "      <th>2</th>\n",
       "      <td>200701BS66127</td>\n",
       "      <td>Serious</td>\n",
       "      <td>26-08-2019</td>\n",
       "      <td>51.517715</td>\n",
       "      <td>Darkness - lighting unknown</td>\n",
       "      <td>Kensington and Chelsea</td>\n",
       "      <td>-0.210215</td>\n",
       "      <td>1</td>\n",
       "      <td>3</td>\n",
       "      <td>Dry</td>\n",
       "      <td>NaN</td>\n",
       "      <td>Urban</td>\n",
       "      <td>NaN</td>\n",
       "      <td>Taxi/Private hire car</td>\n",
       "    </tr>\n",
       "    <tr>\n",
       "      <th>3</th>\n",
       "      <td>200701BS66128</td>\n",
       "      <td>Serious</td>\n",
       "      <td>16-08-2019</td>\n",
       "      <td>51.495478</td>\n",
       "      <td>Daylight</td>\n",
       "      <td>Kensington and Chelsea</td>\n",
       "      <td>-0.202731</td>\n",
       "      <td>1</td>\n",
       "      <td>4</td>\n",
       "      <td>Dry</td>\n",
       "      <td>Single carriageway</td>\n",
       "      <td>Urban</td>\n",
       "      <td>Fine no high winds</td>\n",
       "      <td>Bus or coach (17 or more pass seats)</td>\n",
       "    </tr>\n",
       "    <tr>\n",
       "      <th>4</th>\n",
       "      <td>200701BS66837</td>\n",
       "      <td>Slight</td>\n",
       "      <td>3/9/2019</td>\n",
       "      <td>51.488576</td>\n",
       "      <td>Darkness - lights lit</td>\n",
       "      <td>Kensington and Chelsea</td>\n",
       "      <td>-0.192487</td>\n",
       "      <td>1</td>\n",
       "      <td>2</td>\n",
       "      <td>Dry</td>\n",
       "      <td>NaN</td>\n",
       "      <td>Urban</td>\n",
       "      <td>NaN</td>\n",
       "      <td>Other vehicle</td>\n",
       "    </tr>\n",
       "    <tr>\n",
       "      <th>...</th>\n",
       "      <td>...</td>\n",
       "      <td>...</td>\n",
       "      <td>...</td>\n",
       "      <td>...</td>\n",
       "      <td>...</td>\n",
       "      <td>...</td>\n",
       "      <td>...</td>\n",
       "      <td>...</td>\n",
       "      <td>...</td>\n",
       "      <td>...</td>\n",
       "      <td>...</td>\n",
       "      <td>...</td>\n",
       "      <td>...</td>\n",
       "      <td>...</td>\n",
       "    </tr>\n",
       "    <tr>\n",
       "      <th>660674</th>\n",
       "      <td>201091NM01760</td>\n",
       "      <td>Slight</td>\n",
       "      <td>18-02-2022</td>\n",
       "      <td>57.374005</td>\n",
       "      <td>Daylight</td>\n",
       "      <td>Highland</td>\n",
       "      <td>-3.467828</td>\n",
       "      <td>2</td>\n",
       "      <td>1</td>\n",
       "      <td>Dry</td>\n",
       "      <td>Single carriageway</td>\n",
       "      <td>Rural</td>\n",
       "      <td>Fine no high winds</td>\n",
       "      <td>Car</td>\n",
       "    </tr>\n",
       "    <tr>\n",
       "      <th>660675</th>\n",
       "      <td>201091NM01881</td>\n",
       "      <td>Slight</td>\n",
       "      <td>21-02-2022</td>\n",
       "      <td>57.232273</td>\n",
       "      <td>Darkness - no lighting</td>\n",
       "      <td>Highland</td>\n",
       "      <td>-3.809281</td>\n",
       "      <td>1</td>\n",
       "      <td>1</td>\n",
       "      <td>Frost or ice</td>\n",
       "      <td>Single carriageway</td>\n",
       "      <td>Rural</td>\n",
       "      <td>Fine no high winds</td>\n",
       "      <td>Car</td>\n",
       "    </tr>\n",
       "    <tr>\n",
       "      <th>660676</th>\n",
       "      <td>201091NM01935</td>\n",
       "      <td>Slight</td>\n",
       "      <td>23-02-2022</td>\n",
       "      <td>57.585044</td>\n",
       "      <td>Daylight</td>\n",
       "      <td>Highland</td>\n",
       "      <td>-3.862727</td>\n",
       "      <td>1</td>\n",
       "      <td>3</td>\n",
       "      <td>Frost or ice</td>\n",
       "      <td>Single carriageway</td>\n",
       "      <td>Rural</td>\n",
       "      <td>Fine no high winds</td>\n",
       "      <td>Car</td>\n",
       "    </tr>\n",
       "    <tr>\n",
       "      <th>660677</th>\n",
       "      <td>201091NM01964</td>\n",
       "      <td>Serious</td>\n",
       "      <td>23-02-2022</td>\n",
       "      <td>57.214898</td>\n",
       "      <td>Darkness - no lighting</td>\n",
       "      <td>Highland</td>\n",
       "      <td>-3.823997</td>\n",
       "      <td>1</td>\n",
       "      <td>2</td>\n",
       "      <td>Wet or damp</td>\n",
       "      <td>Single carriageway</td>\n",
       "      <td>Rural</td>\n",
       "      <td>Fine no high winds</td>\n",
       "      <td>Motorcycle over 500cc</td>\n",
       "    </tr>\n",
       "    <tr>\n",
       "      <th>660678</th>\n",
       "      <td>201091NM02142</td>\n",
       "      <td>Serious</td>\n",
       "      <td>28-02-2022</td>\n",
       "      <td>57.575210</td>\n",
       "      <td>Daylight</td>\n",
       "      <td>Highland</td>\n",
       "      <td>-3.895673</td>\n",
       "      <td>1</td>\n",
       "      <td>1</td>\n",
       "      <td>Wet or damp</td>\n",
       "      <td>Dual carriageway</td>\n",
       "      <td>Rural</td>\n",
       "      <td>Snowing no high winds</td>\n",
       "      <td>Car</td>\n",
       "    </tr>\n",
       "  </tbody>\n",
       "</table>\n",
       "<p>660679 rows × 14 columns</p>\n",
       "</div>"
      ],
      "text/plain": [
       "                Index Accident_Severity Accident Date   Latitude  \\\n",
       "0       200701BS64157           Serious      5/6/2019  51.506187   \n",
       "1       200701BS65737           Serious      2/7/2019  51.495029   \n",
       "2       200701BS66127           Serious    26-08-2019  51.517715   \n",
       "3       200701BS66128           Serious    16-08-2019  51.495478   \n",
       "4       200701BS66837            Slight      3/9/2019  51.488576   \n",
       "...               ...               ...           ...        ...   \n",
       "660674  201091NM01760            Slight    18-02-2022  57.374005   \n",
       "660675  201091NM01881            Slight    21-02-2022  57.232273   \n",
       "660676  201091NM01935            Slight    23-02-2022  57.585044   \n",
       "660677  201091NM01964           Serious    23-02-2022  57.214898   \n",
       "660678  201091NM02142           Serious    28-02-2022  57.575210   \n",
       "\n",
       "                   Light_Conditions           District Area  Longitude  \\\n",
       "0             Darkness - lights lit  Kensington and Chelsea  -0.209082   \n",
       "1                          Daylight  Kensington and Chelsea  -0.173647   \n",
       "2       Darkness - lighting unknown  Kensington and Chelsea  -0.210215   \n",
       "3                          Daylight  Kensington and Chelsea  -0.202731   \n",
       "4             Darkness - lights lit  Kensington and Chelsea  -0.192487   \n",
       "...                             ...                     ...        ...   \n",
       "660674                     Daylight                Highland  -3.467828   \n",
       "660675       Darkness - no lighting                Highland  -3.809281   \n",
       "660676                     Daylight                Highland  -3.862727   \n",
       "660677       Darkness - no lighting                Highland  -3.823997   \n",
       "660678                     Daylight                Highland  -3.895673   \n",
       "\n",
       "        Number_of_Casualties  Number_of_Vehicles Road_Surface_Conditions  \\\n",
       "0                          1                   2                     Dry   \n",
       "1                          1                   2             Wet or damp   \n",
       "2                          1                   3                     Dry   \n",
       "3                          1                   4                     Dry   \n",
       "4                          1                   2                     Dry   \n",
       "...                      ...                 ...                     ...   \n",
       "660674                     2                   1                     Dry   \n",
       "660675                     1                   1            Frost or ice   \n",
       "660676                     1                   3            Frost or ice   \n",
       "660677                     1                   2             Wet or damp   \n",
       "660678                     1                   1             Wet or damp   \n",
       "\n",
       "                 Road_Type Urban_or_Rural_Area     Weather_Conditions  \\\n",
       "0       Single carriageway               Urban     Fine no high winds   \n",
       "1       Single carriageway               Urban  Raining no high winds   \n",
       "2                      NaN               Urban                    NaN   \n",
       "3       Single carriageway               Urban     Fine no high winds   \n",
       "4                      NaN               Urban                    NaN   \n",
       "...                    ...                 ...                    ...   \n",
       "660674  Single carriageway               Rural     Fine no high winds   \n",
       "660675  Single carriageway               Rural     Fine no high winds   \n",
       "660676  Single carriageway               Rural     Fine no high winds   \n",
       "660677  Single carriageway               Rural     Fine no high winds   \n",
       "660678    Dual carriageway               Rural  Snowing no high winds   \n",
       "\n",
       "                                Vehicle_Type  \n",
       "0                                        Car  \n",
       "1                                        Car  \n",
       "2                      Taxi/Private hire car  \n",
       "3       Bus or coach (17 or more pass seats)  \n",
       "4                              Other vehicle  \n",
       "...                                      ...  \n",
       "660674                                   Car  \n",
       "660675                                   Car  \n",
       "660676                                   Car  \n",
       "660677                 Motorcycle over 500cc  \n",
       "660678                                   Car  \n",
       "\n",
       "[660679 rows x 14 columns]"
      ]
     },
     "execution_count": 3,
     "metadata": {},
     "output_type": "execute_result"
    }
   ],
   "source": [
    "road_accident"
   ]
  },
  {
   "cell_type": "markdown",
   "id": "62bcd55e-35a2-4367-b9ab-8a4a35ff0cfb",
   "metadata": {},
   "source": [
    "<h2>3. Check DataFrame Information</h2>"
   ]
  },
  {
   "cell_type": "code",
   "execution_count": 4,
   "id": "abe06bd5-4958-4da8-be85-3f751142afef",
   "metadata": {},
   "outputs": [
    {
     "name": "stdout",
     "output_type": "stream",
     "text": [
      "<class 'pandas.core.frame.DataFrame'>\n",
      "RangeIndex: 660679 entries, 0 to 660678\n",
      "Data columns (total 14 columns):\n",
      " #   Column                   Non-Null Count   Dtype  \n",
      "---  ------                   --------------   -----  \n",
      " 0   Index                    660679 non-null  object \n",
      " 1   Accident_Severity        660679 non-null  object \n",
      " 2   Accident Date            660679 non-null  object \n",
      " 3   Latitude                 660654 non-null  float64\n",
      " 4   Light_Conditions         660679 non-null  object \n",
      " 5   District Area            660679 non-null  object \n",
      " 6   Longitude                660653 non-null  float64\n",
      " 7   Number_of_Casualties     660679 non-null  int64  \n",
      " 8   Number_of_Vehicles       660679 non-null  int64  \n",
      " 9   Road_Surface_Conditions  659953 non-null  object \n",
      " 10  Road_Type                656159 non-null  object \n",
      " 11  Urban_or_Rural_Area      660664 non-null  object \n",
      " 12  Weather_Conditions       646551 non-null  object \n",
      " 13  Vehicle_Type             660679 non-null  object \n",
      "dtypes: float64(2), int64(2), object(10)\n",
      "memory usage: 70.6+ MB\n"
     ]
    }
   ],
   "source": [
    "road_accident.info()"
   ]
  },
  {
   "cell_type": "markdown",
   "id": "0e6f540d-2cca-4c48-8284-b842046a8b1d",
   "metadata": {},
   "source": [
    "<h2>4. Check Basic Descriptive Statistics</h2>"
   ]
  },
  {
   "cell_type": "code",
   "execution_count": 5,
   "id": "8ccab55a-7d85-4bc7-bad4-410925fc8ea5",
   "metadata": {},
   "outputs": [
    {
     "data": {
      "text/html": [
       "<div>\n",
       "<style scoped>\n",
       "    .dataframe tbody tr th:only-of-type {\n",
       "        vertical-align: middle;\n",
       "    }\n",
       "\n",
       "    .dataframe tbody tr th {\n",
       "        vertical-align: top;\n",
       "    }\n",
       "\n",
       "    .dataframe thead th {\n",
       "        text-align: right;\n",
       "    }\n",
       "</style>\n",
       "<table border=\"1\" class=\"dataframe\">\n",
       "  <thead>\n",
       "    <tr style=\"text-align: right;\">\n",
       "      <th></th>\n",
       "      <th>Latitude</th>\n",
       "      <th>Longitude</th>\n",
       "      <th>Number_of_Casualties</th>\n",
       "      <th>Number_of_Vehicles</th>\n",
       "    </tr>\n",
       "  </thead>\n",
       "  <tbody>\n",
       "    <tr>\n",
       "      <th>count</th>\n",
       "      <td>660654.000000</td>\n",
       "      <td>660653.000000</td>\n",
       "      <td>660679.000000</td>\n",
       "      <td>660679.000000</td>\n",
       "    </tr>\n",
       "    <tr>\n",
       "      <th>mean</th>\n",
       "      <td>52.553866</td>\n",
       "      <td>-1.431210</td>\n",
       "      <td>1.357040</td>\n",
       "      <td>1.831255</td>\n",
       "    </tr>\n",
       "    <tr>\n",
       "      <th>std</th>\n",
       "      <td>1.406922</td>\n",
       "      <td>1.383330</td>\n",
       "      <td>0.824847</td>\n",
       "      <td>0.715269</td>\n",
       "    </tr>\n",
       "    <tr>\n",
       "      <th>min</th>\n",
       "      <td>49.914430</td>\n",
       "      <td>-7.516225</td>\n",
       "      <td>1.000000</td>\n",
       "      <td>1.000000</td>\n",
       "    </tr>\n",
       "    <tr>\n",
       "      <th>25%</th>\n",
       "      <td>51.490690</td>\n",
       "      <td>-2.332291</td>\n",
       "      <td>1.000000</td>\n",
       "      <td>1.000000</td>\n",
       "    </tr>\n",
       "    <tr>\n",
       "      <th>50%</th>\n",
       "      <td>52.315641</td>\n",
       "      <td>-1.411667</td>\n",
       "      <td>1.000000</td>\n",
       "      <td>2.000000</td>\n",
       "    </tr>\n",
       "    <tr>\n",
       "      <th>75%</th>\n",
       "      <td>53.453452</td>\n",
       "      <td>-0.232869</td>\n",
       "      <td>1.000000</td>\n",
       "      <td>2.000000</td>\n",
       "    </tr>\n",
       "    <tr>\n",
       "      <th>max</th>\n",
       "      <td>60.757544</td>\n",
       "      <td>1.762010</td>\n",
       "      <td>68.000000</td>\n",
       "      <td>32.000000</td>\n",
       "    </tr>\n",
       "  </tbody>\n",
       "</table>\n",
       "</div>"
      ],
      "text/plain": [
       "            Latitude      Longitude  Number_of_Casualties  Number_of_Vehicles\n",
       "count  660654.000000  660653.000000         660679.000000       660679.000000\n",
       "mean       52.553866      -1.431210              1.357040            1.831255\n",
       "std         1.406922       1.383330              0.824847            0.715269\n",
       "min        49.914430      -7.516225              1.000000            1.000000\n",
       "25%        51.490690      -2.332291              1.000000            1.000000\n",
       "50%        52.315641      -1.411667              1.000000            2.000000\n",
       "75%        53.453452      -0.232869              1.000000            2.000000\n",
       "max        60.757544       1.762010             68.000000           32.000000"
      ]
     },
     "execution_count": 5,
     "metadata": {},
     "output_type": "execute_result"
    }
   ],
   "source": [
    "road_accident.describe()"
   ]
  },
  {
   "cell_type": "markdown",
   "id": "4bc795a6-3756-4ec7-850f-16ce5dc32983",
   "metadata": {},
   "source": [
    "<h2>5. Call Each Column Individually</h2>"
   ]
  },
  {
   "cell_type": "code",
   "execution_count": 6,
   "id": "d86f7849-edd4-4bc0-8d49-da45dfd15738",
   "metadata": {},
   "outputs": [
    {
     "data": {
      "text/plain": [
       "Index(['Index', 'Accident_Severity', 'Accident Date', 'Latitude',\n",
       "       'Light_Conditions', 'District Area', 'Longitude',\n",
       "       'Number_of_Casualties', 'Number_of_Vehicles', 'Road_Surface_Conditions',\n",
       "       'Road_Type', 'Urban_or_Rural_Area', 'Weather_Conditions',\n",
       "       'Vehicle_Type'],\n",
       "      dtype='object')"
      ]
     },
     "execution_count": 6,
     "metadata": {},
     "output_type": "execute_result"
    }
   ],
   "source": [
    "road_accident.columns"
   ]
  },
  {
   "cell_type": "code",
   "execution_count": 7,
   "id": "93f9f626-2379-4b6f-af4a-d172d9690766",
   "metadata": {},
   "outputs": [
    {
     "data": {
      "text/plain": [
       "0         200701BS64157\n",
       "1         200701BS65737\n",
       "2         200701BS66127\n",
       "3         200701BS66128\n",
       "4         200701BS66837\n",
       "              ...      \n",
       "660674    201091NM01760\n",
       "660675    201091NM01881\n",
       "660676    201091NM01935\n",
       "660677    201091NM01964\n",
       "660678    201091NM02142\n",
       "Name: Index, Length: 660679, dtype: object"
      ]
     },
     "execution_count": 7,
     "metadata": {},
     "output_type": "execute_result"
    }
   ],
   "source": [
    "road_accident['Index']"
   ]
  },
  {
   "cell_type": "code",
   "execution_count": 8,
   "id": "42dad04b-1281-41a7-ab3f-c3e158886c4a",
   "metadata": {},
   "outputs": [
    {
     "data": {
      "text/plain": [
       "0         Serious\n",
       "1         Serious\n",
       "2         Serious\n",
       "3         Serious\n",
       "4          Slight\n",
       "           ...   \n",
       "660674     Slight\n",
       "660675     Slight\n",
       "660676     Slight\n",
       "660677    Serious\n",
       "660678    Serious\n",
       "Name: Accident_Severity, Length: 660679, dtype: object"
      ]
     },
     "execution_count": 8,
     "metadata": {},
     "output_type": "execute_result"
    }
   ],
   "source": [
    "road_accident['Accident_Severity']"
   ]
  },
  {
   "cell_type": "code",
   "execution_count": 9,
   "id": "172bc2ed-ea66-4ab0-91f4-0de329a16ea3",
   "metadata": {},
   "outputs": [
    {
     "data": {
      "text/plain": [
       "0           5/6/2019\n",
       "1           2/7/2019\n",
       "2         26-08-2019\n",
       "3         16-08-2019\n",
       "4           3/9/2019\n",
       "             ...    \n",
       "660674    18-02-2022\n",
       "660675    21-02-2022\n",
       "660676    23-02-2022\n",
       "660677    23-02-2022\n",
       "660678    28-02-2022\n",
       "Name: Accident Date, Length: 660679, dtype: object"
      ]
     },
     "execution_count": 9,
     "metadata": {},
     "output_type": "execute_result"
    }
   ],
   "source": [
    "road_accident['Accident Date']"
   ]
  },
  {
   "cell_type": "code",
   "execution_count": 10,
   "id": "16796d0d-de67-40e4-9e13-8235956dc83b",
   "metadata": {},
   "outputs": [
    {
     "data": {
      "text/plain": [
       "0         51.506187\n",
       "1         51.495029\n",
       "2         51.517715\n",
       "3         51.495478\n",
       "4         51.488576\n",
       "            ...    \n",
       "660674    57.374005\n",
       "660675    57.232273\n",
       "660676    57.585044\n",
       "660677    57.214898\n",
       "660678    57.575210\n",
       "Name: Latitude, Length: 660679, dtype: float64"
      ]
     },
     "execution_count": 10,
     "metadata": {},
     "output_type": "execute_result"
    }
   ],
   "source": [
    "road_accident['Latitude']"
   ]
  },
  {
   "cell_type": "code",
   "execution_count": 11,
   "id": "74d9a40c-79cf-4afe-a21c-2d3bbb5b6669",
   "metadata": {},
   "outputs": [
    {
     "data": {
      "text/plain": [
       "0               Darkness - lights lit\n",
       "1                            Daylight\n",
       "2         Darkness - lighting unknown\n",
       "3                            Daylight\n",
       "4               Darkness - lights lit\n",
       "                     ...             \n",
       "660674                       Daylight\n",
       "660675         Darkness - no lighting\n",
       "660676                       Daylight\n",
       "660677         Darkness - no lighting\n",
       "660678                       Daylight\n",
       "Name: Light_Conditions, Length: 660679, dtype: object"
      ]
     },
     "execution_count": 11,
     "metadata": {},
     "output_type": "execute_result"
    }
   ],
   "source": [
    "road_accident['Light_Conditions']"
   ]
  },
  {
   "cell_type": "code",
   "execution_count": 12,
   "id": "425171f8-d301-4a28-9a93-d7c2bdf5aae1",
   "metadata": {},
   "outputs": [
    {
     "data": {
      "text/plain": [
       "0         Kensington and Chelsea\n",
       "1         Kensington and Chelsea\n",
       "2         Kensington and Chelsea\n",
       "3         Kensington and Chelsea\n",
       "4         Kensington and Chelsea\n",
       "                   ...          \n",
       "660674                  Highland\n",
       "660675                  Highland\n",
       "660676                  Highland\n",
       "660677                  Highland\n",
       "660678                  Highland\n",
       "Name: District Area, Length: 660679, dtype: object"
      ]
     },
     "execution_count": 12,
     "metadata": {},
     "output_type": "execute_result"
    }
   ],
   "source": [
    "road_accident['District Area']"
   ]
  },
  {
   "cell_type": "code",
   "execution_count": 13,
   "id": "a1897693-7bf0-43a8-86e1-9109a9839779",
   "metadata": {},
   "outputs": [
    {
     "data": {
      "text/plain": [
       "0        -0.209082\n",
       "1        -0.173647\n",
       "2        -0.210215\n",
       "3        -0.202731\n",
       "4        -0.192487\n",
       "            ...   \n",
       "660674   -3.467828\n",
       "660675   -3.809281\n",
       "660676   -3.862727\n",
       "660677   -3.823997\n",
       "660678   -3.895673\n",
       "Name: Longitude, Length: 660679, dtype: float64"
      ]
     },
     "execution_count": 13,
     "metadata": {},
     "output_type": "execute_result"
    }
   ],
   "source": [
    "road_accident['Longitude']"
   ]
  },
  {
   "cell_type": "code",
   "execution_count": 14,
   "id": "48d0c41c-e0c1-4b31-8595-8ccd756523bf",
   "metadata": {},
   "outputs": [
    {
     "data": {
      "text/plain": [
       "0         1\n",
       "1         1\n",
       "2         1\n",
       "3         1\n",
       "4         1\n",
       "         ..\n",
       "660674    2\n",
       "660675    1\n",
       "660676    1\n",
       "660677    1\n",
       "660678    1\n",
       "Name: Number_of_Casualties, Length: 660679, dtype: int64"
      ]
     },
     "execution_count": 14,
     "metadata": {},
     "output_type": "execute_result"
    }
   ],
   "source": [
    "road_accident['Number_of_Casualties']"
   ]
  },
  {
   "cell_type": "code",
   "execution_count": 15,
   "id": "6330bbc0-1e04-401f-9ade-ee0166994fd1",
   "metadata": {},
   "outputs": [
    {
     "data": {
      "text/plain": [
       "0         2\n",
       "1         2\n",
       "2         3\n",
       "3         4\n",
       "4         2\n",
       "         ..\n",
       "660674    1\n",
       "660675    1\n",
       "660676    3\n",
       "660677    2\n",
       "660678    1\n",
       "Name: Number_of_Vehicles, Length: 660679, dtype: int64"
      ]
     },
     "execution_count": 15,
     "metadata": {},
     "output_type": "execute_result"
    }
   ],
   "source": [
    "road_accident['Number_of_Vehicles']"
   ]
  },
  {
   "cell_type": "code",
   "execution_count": 16,
   "id": "905a5ce5-aa60-4ee9-bef4-e208f6e59bce",
   "metadata": {},
   "outputs": [
    {
     "data": {
      "text/plain": [
       "0                  Dry\n",
       "1          Wet or damp\n",
       "2                  Dry\n",
       "3                  Dry\n",
       "4                  Dry\n",
       "              ...     \n",
       "660674             Dry\n",
       "660675    Frost or ice\n",
       "660676    Frost or ice\n",
       "660677     Wet or damp\n",
       "660678     Wet or damp\n",
       "Name: Road_Surface_Conditions, Length: 660679, dtype: object"
      ]
     },
     "execution_count": 16,
     "metadata": {},
     "output_type": "execute_result"
    }
   ],
   "source": [
    "road_accident['Road_Surface_Conditions']"
   ]
  },
  {
   "cell_type": "code",
   "execution_count": 17,
   "id": "3accbc00-2854-450e-8a11-94f5a166ad77",
   "metadata": {},
   "outputs": [
    {
     "data": {
      "text/plain": [
       "0         Single carriageway\n",
       "1         Single carriageway\n",
       "2                        NaN\n",
       "3         Single carriageway\n",
       "4                        NaN\n",
       "                 ...        \n",
       "660674    Single carriageway\n",
       "660675    Single carriageway\n",
       "660676    Single carriageway\n",
       "660677    Single carriageway\n",
       "660678      Dual carriageway\n",
       "Name: Road_Type, Length: 660679, dtype: object"
      ]
     },
     "execution_count": 17,
     "metadata": {},
     "output_type": "execute_result"
    }
   ],
   "source": [
    "road_accident['Road_Type']"
   ]
  },
  {
   "cell_type": "code",
   "execution_count": 18,
   "id": "ebca645d-56af-4d8a-b278-e93d1e8b4c81",
   "metadata": {},
   "outputs": [
    {
     "data": {
      "text/plain": [
       "0         Urban\n",
       "1         Urban\n",
       "2         Urban\n",
       "3         Urban\n",
       "4         Urban\n",
       "          ...  \n",
       "660674    Rural\n",
       "660675    Rural\n",
       "660676    Rural\n",
       "660677    Rural\n",
       "660678    Rural\n",
       "Name: Urban_or_Rural_Area, Length: 660679, dtype: object"
      ]
     },
     "execution_count": 18,
     "metadata": {},
     "output_type": "execute_result"
    }
   ],
   "source": [
    "road_accident['Urban_or_Rural_Area']"
   ]
  },
  {
   "cell_type": "code",
   "execution_count": 19,
   "id": "b8d4e358-8c83-4672-89f7-971c650ae4e0",
   "metadata": {},
   "outputs": [
    {
     "data": {
      "text/plain": [
       "0            Fine no high winds\n",
       "1         Raining no high winds\n",
       "2                           NaN\n",
       "3            Fine no high winds\n",
       "4                           NaN\n",
       "                  ...          \n",
       "660674       Fine no high winds\n",
       "660675       Fine no high winds\n",
       "660676       Fine no high winds\n",
       "660677       Fine no high winds\n",
       "660678    Snowing no high winds\n",
       "Name: Weather_Conditions, Length: 660679, dtype: object"
      ]
     },
     "execution_count": 19,
     "metadata": {},
     "output_type": "execute_result"
    }
   ],
   "source": [
    "road_accident['Weather_Conditions']"
   ]
  },
  {
   "cell_type": "code",
   "execution_count": 20,
   "id": "55f9c557-9db5-464b-bbdf-d6b7bbfca9b0",
   "metadata": {},
   "outputs": [
    {
     "data": {
      "text/plain": [
       "0                                          Car\n",
       "1                                          Car\n",
       "2                        Taxi/Private hire car\n",
       "3         Bus or coach (17 or more pass seats)\n",
       "4                                Other vehicle\n",
       "                          ...                 \n",
       "660674                                     Car\n",
       "660675                                     Car\n",
       "660676                                     Car\n",
       "660677                   Motorcycle over 500cc\n",
       "660678                                     Car\n",
       "Name: Vehicle_Type, Length: 660679, dtype: object"
      ]
     },
     "execution_count": 20,
     "metadata": {},
     "output_type": "execute_result"
    }
   ],
   "source": [
    "road_accident['Vehicle_Type']"
   ]
  },
  {
   "cell_type": "markdown",
   "id": "c426cb0a-aa8b-4003-94f5-a788da81ea09",
   "metadata": {},
   "source": [
    "<h2>6. Check for Null Values</h2>"
   ]
  },
  {
   "cell_type": "code",
   "execution_count": 21,
   "id": "495f98ba-d468-4290-8b12-b1c6c524fed1",
   "metadata": {
    "scrolled": true
   },
   "outputs": [
    {
     "data": {
      "text/plain": [
       "Index                          0\n",
       "Accident_Severity              0\n",
       "Accident Date                  0\n",
       "Latitude                      25\n",
       "Light_Conditions               0\n",
       "District Area                  0\n",
       "Longitude                     26\n",
       "Number_of_Casualties           0\n",
       "Number_of_Vehicles             0\n",
       "Road_Surface_Conditions      726\n",
       "Road_Type                   4520\n",
       "Urban_or_Rural_Area           15\n",
       "Weather_Conditions         14128\n",
       "Vehicle_Type                   0\n",
       "dtype: int64"
      ]
     },
     "execution_count": 21,
     "metadata": {},
     "output_type": "execute_result"
    }
   ],
   "source": [
    "road_accident.isnull().sum()"
   ]
  },
  {
   "cell_type": "markdown",
   "id": "d43f996b-4f53-464b-b12f-9c209a5a4df8",
   "metadata": {},
   "source": [
    "<h2>7. Fill Null Values with Statistical Values</h2>"
   ]
  },
  {
   "cell_type": "code",
   "execution_count": 22,
   "id": "b6298a51-c37e-4fd0-b74f-13a325893fc4",
   "metadata": {},
   "outputs": [],
   "source": [
    "road_accident['Latitude'] = road_accident['Latitude'].fillna(road_accident['Latitude'].mean())\n",
    "road_accident['Longitude'] = road_accident['Longitude'].fillna(road_accident['Longitude'].mean())\n",
    "road_accident['Road_Surface_Conditions'] = road_accident['Road_Surface_Conditions'].fillna('unaccounted')\n",
    "road_accident['Road_Type'] = road_accident['Road_Type'].fillna('unaccounted')\n",
    "road_accident['Urban_or_Rural_Area'] = road_accident['Urban_or_Rural_Area'].fillna(road_accident['Urban_or_Rural_Area'].mode()[0])\n",
    "road_accident['Weather_Conditions'] = road_accident['Weather_Conditions'].fillna('unaccounted')"
   ]
  },
  {
   "cell_type": "code",
   "execution_count": 23,
   "id": "559d1bb0-138e-42a0-bffb-b5cbb6159090",
   "metadata": {},
   "outputs": [
    {
     "data": {
      "text/plain": [
       "Index                      0\n",
       "Accident_Severity          0\n",
       "Accident Date              0\n",
       "Latitude                   0\n",
       "Light_Conditions           0\n",
       "District Area              0\n",
       "Longitude                  0\n",
       "Number_of_Casualties       0\n",
       "Number_of_Vehicles         0\n",
       "Road_Surface_Conditions    0\n",
       "Road_Type                  0\n",
       "Urban_or_Rural_Area        0\n",
       "Weather_Conditions         0\n",
       "Vehicle_Type               0\n",
       "dtype: int64"
      ]
     },
     "execution_count": 23,
     "metadata": {},
     "output_type": "execute_result"
    }
   ],
   "source": [
    "road_accident.isnull().sum()"
   ]
  },
  {
   "cell_type": "markdown",
   "id": "a0921951-1fbb-48ef-9705-98c04f951913",
   "metadata": {},
   "source": [
    "<h2>8. Check Column Data Types</h2>"
   ]
  },
  {
   "cell_type": "code",
   "execution_count": 24,
   "id": "f62b86f8-4854-4aed-83c2-f6c032f529b8",
   "metadata": {
    "scrolled": true
   },
   "outputs": [
    {
     "name": "stdout",
     "output_type": "stream",
     "text": [
      "<class 'pandas.core.frame.DataFrame'>\n",
      "RangeIndex: 660679 entries, 0 to 660678\n",
      "Data columns (total 14 columns):\n",
      " #   Column                   Non-Null Count   Dtype  \n",
      "---  ------                   --------------   -----  \n",
      " 0   Index                    660679 non-null  object \n",
      " 1   Accident_Severity        660679 non-null  object \n",
      " 2   Accident Date            660679 non-null  object \n",
      " 3   Latitude                 660679 non-null  float64\n",
      " 4   Light_Conditions         660679 non-null  object \n",
      " 5   District Area            660679 non-null  object \n",
      " 6   Longitude                660679 non-null  float64\n",
      " 7   Number_of_Casualties     660679 non-null  int64  \n",
      " 8   Number_of_Vehicles       660679 non-null  int64  \n",
      " 9   Road_Surface_Conditions  660679 non-null  object \n",
      " 10  Road_Type                660679 non-null  object \n",
      " 11  Urban_or_Rural_Area      660679 non-null  object \n",
      " 12  Weather_Conditions       660679 non-null  object \n",
      " 13  Vehicle_Type             660679 non-null  object \n",
      "dtypes: float64(2), int64(2), object(10)\n",
      "memory usage: 70.6+ MB\n"
     ]
    }
   ],
   "source": [
    "road_accident.info()"
   ]
  },
  {
   "cell_type": "code",
   "execution_count": 25,
   "id": "b5e291c4-204e-4a05-bf07-8063e1a86ea8",
   "metadata": {},
   "outputs": [],
   "source": [
    "#road_accident['Number_of_Casualties'] = road_accident['Number_of_Casualties'].astype('category')\n",
    "#road_accident['Number_of_Vehicles'] = road_accident['Number_of_Vehicles'].astype('category')\n",
    "road_accident['Index'] = road_accident['Index'].astype('category')\n",
    "road_accident['Accident_Severity'] = road_accident['Accident_Severity'].astype('category')\n",
    "road_accident['Accident Date'] = road_accident['Accident Date'].astype('category')\n",
    "road_accident['Light_Conditions'] = road_accident['Light_Conditions'].astype('category')\n",
    "road_accident['District Area'] = road_accident['District Area'].astype('category')\n",
    "road_accident['Road_Surface_Conditions'] = road_accident['Road_Surface_Conditions'].astype('category')\n",
    "road_accident['Road_Type'] = road_accident['Road_Type'].astype('category')\n",
    "road_accident['Urban_or_Rural_Area'] = road_accident['Urban_or_Rural_Area'].astype('category')\n",
    "road_accident['Weather_Conditions'] = road_accident['Weather_Conditions'].astype('category')\n",
    "road_accident['Vehicle_Type'] = road_accident['Vehicle_Type'].astype('category')"
   ]
  },
  {
   "cell_type": "code",
   "execution_count": 26,
   "id": "896db955-3fca-4523-a4bd-d49ed311028e",
   "metadata": {
    "scrolled": true
   },
   "outputs": [
    {
     "data": {
      "text/plain": [
       "Index                      category\n",
       "Accident_Severity          category\n",
       "Accident Date              category\n",
       "Latitude                    float64\n",
       "Light_Conditions           category\n",
       "District Area              category\n",
       "Longitude                   float64\n",
       "Number_of_Casualties          int64\n",
       "Number_of_Vehicles            int64\n",
       "Road_Surface_Conditions    category\n",
       "Road_Type                  category\n",
       "Urban_or_Rural_Area        category\n",
       "Weather_Conditions         category\n",
       "Vehicle_Type               category\n",
       "dtype: object"
      ]
     },
     "execution_count": 26,
     "metadata": {},
     "output_type": "execute_result"
    }
   ],
   "source": [
    "road_accident.dtypes"
   ]
  },
  {
   "cell_type": "markdown",
   "id": "3b39faa4-49dd-4974-8621-1d7f52f55a7d",
   "metadata": {},
   "source": [
    "<h1>Clearing any Incostencies with the Data Set</h1>"
   ]
  },
  {
   "cell_type": "code",
   "execution_count": 27,
   "id": "68e7c22a-ff79-4ce3-8193-4b655a01a43e",
   "metadata": {},
   "outputs": [],
   "source": [
    "road_accident['Accident Date'] = road_accident['Accident Date'].str.strip()\n",
    "road_accident['Accident Date'] = road_accident['Accident Date'].astype('str')\n",
    "road_accident['Accident Date'] = road_accident['Accident Date'].str.replace('/', '-')\n",
    "road_accident['Accident Date'] = pd.to_datetime(road_accident['Accident Date'], dayfirst = True, errors = 'coerce')"
   ]
  },
  {
   "cell_type": "markdown",
   "id": "214dbd15-8c21-4fee-8da7-c6e5010480b5",
   "metadata": {},
   "source": [
    "<h1>Adjusting Data Types</h1>"
   ]
  },
  {
   "cell_type": "code",
   "execution_count": 28,
   "id": "35500d4a-28a2-49d5-9bd9-6a2a8f1a7741",
   "metadata": {},
   "outputs": [
    {
     "data": {
      "text/plain": [
       "Index                            category\n",
       "Accident_Severity                category\n",
       "Accident Date              datetime64[ns]\n",
       "Latitude                          float64\n",
       "Light_Conditions                 category\n",
       "District Area                    category\n",
       "Longitude                         float64\n",
       "Number_of_Casualties                int64\n",
       "Number_of_Vehicles                  int64\n",
       "Road_Surface_Conditions          category\n",
       "Road_Type                        category\n",
       "Urban_or_Rural_Area              category\n",
       "Weather_Conditions               category\n",
       "Vehicle_Type                     category\n",
       "dtype: object"
      ]
     },
     "execution_count": 28,
     "metadata": {},
     "output_type": "execute_result"
    }
   ],
   "source": [
    "road_accident.dtypes"
   ]
  },
  {
   "cell_type": "markdown",
   "id": "e1d75475-3810-40e5-bda0-54a4546c07d8",
   "metadata": {},
   "source": [
    "<h1>Extracting date information using pandas date time</h1>"
   ]
  },
  {
   "cell_type": "code",
   "execution_count": 29,
   "id": "d372935a-fadc-4131-86e6-a719dba94286",
   "metadata": {},
   "outputs": [],
   "source": [
    "road_accident['Year'] = road_accident['Accident Date'].dt.year\n",
    "road_accident['Month'] = road_accident['Accident Date'].dt.month\n",
    "road_accident['Day'] = road_accident['Accident Date'].dt.day\n",
    "road_accident['DayOfWeek'] = road_accident['Accident Date'].dt.dayofweek"
   ]
  },
  {
   "cell_type": "markdown",
   "id": "630ed787-7312-4ac0-9769-23316c76dbaf",
   "metadata": {},
   "source": [
    "<hr>\n",
    "<h1>QUESTIONS AND INSIGHTS</h1>\n",
    "<hr>"
   ]
  },
  {
   "cell_type": "code",
   "execution_count": 30,
   "id": "6502b534-a6a2-4ed0-8146-e5318b9ff8f0",
   "metadata": {},
   "outputs": [
    {
     "data": {
      "text/html": [
       "<div>\n",
       "<style scoped>\n",
       "    .dataframe tbody tr th:only-of-type {\n",
       "        vertical-align: middle;\n",
       "    }\n",
       "\n",
       "    .dataframe tbody tr th {\n",
       "        vertical-align: top;\n",
       "    }\n",
       "\n",
       "    .dataframe thead th {\n",
       "        text-align: right;\n",
       "    }\n",
       "</style>\n",
       "<table border=\"1\" class=\"dataframe\">\n",
       "  <thead>\n",
       "    <tr style=\"text-align: right;\">\n",
       "      <th></th>\n",
       "      <th>Index</th>\n",
       "      <th>Accident_Severity</th>\n",
       "      <th>Accident Date</th>\n",
       "      <th>Latitude</th>\n",
       "      <th>Light_Conditions</th>\n",
       "      <th>District Area</th>\n",
       "      <th>Longitude</th>\n",
       "      <th>Number_of_Casualties</th>\n",
       "      <th>Number_of_Vehicles</th>\n",
       "      <th>Road_Surface_Conditions</th>\n",
       "      <th>Road_Type</th>\n",
       "      <th>Urban_or_Rural_Area</th>\n",
       "      <th>Weather_Conditions</th>\n",
       "      <th>Vehicle_Type</th>\n",
       "      <th>Year</th>\n",
       "      <th>Month</th>\n",
       "      <th>Day</th>\n",
       "      <th>DayOfWeek</th>\n",
       "    </tr>\n",
       "  </thead>\n",
       "  <tbody>\n",
       "    <tr>\n",
       "      <th>0</th>\n",
       "      <td>200701BS64157</td>\n",
       "      <td>Serious</td>\n",
       "      <td>2019-06-05</td>\n",
       "      <td>51.506187</td>\n",
       "      <td>Darkness - lights lit</td>\n",
       "      <td>Kensington and Chelsea</td>\n",
       "      <td>-0.209082</td>\n",
       "      <td>1</td>\n",
       "      <td>2</td>\n",
       "      <td>Dry</td>\n",
       "      <td>Single carriageway</td>\n",
       "      <td>Urban</td>\n",
       "      <td>Fine no high winds</td>\n",
       "      <td>Car</td>\n",
       "      <td>2019</td>\n",
       "      <td>6</td>\n",
       "      <td>5</td>\n",
       "      <td>2</td>\n",
       "    </tr>\n",
       "    <tr>\n",
       "      <th>1</th>\n",
       "      <td>200701BS65737</td>\n",
       "      <td>Serious</td>\n",
       "      <td>2019-07-02</td>\n",
       "      <td>51.495029</td>\n",
       "      <td>Daylight</td>\n",
       "      <td>Kensington and Chelsea</td>\n",
       "      <td>-0.173647</td>\n",
       "      <td>1</td>\n",
       "      <td>2</td>\n",
       "      <td>Wet or damp</td>\n",
       "      <td>Single carriageway</td>\n",
       "      <td>Urban</td>\n",
       "      <td>Raining no high winds</td>\n",
       "      <td>Car</td>\n",
       "      <td>2019</td>\n",
       "      <td>7</td>\n",
       "      <td>2</td>\n",
       "      <td>1</td>\n",
       "    </tr>\n",
       "    <tr>\n",
       "      <th>2</th>\n",
       "      <td>200701BS66127</td>\n",
       "      <td>Serious</td>\n",
       "      <td>2019-08-26</td>\n",
       "      <td>51.517715</td>\n",
       "      <td>Darkness - lighting unknown</td>\n",
       "      <td>Kensington and Chelsea</td>\n",
       "      <td>-0.210215</td>\n",
       "      <td>1</td>\n",
       "      <td>3</td>\n",
       "      <td>Dry</td>\n",
       "      <td>unaccounted</td>\n",
       "      <td>Urban</td>\n",
       "      <td>unaccounted</td>\n",
       "      <td>Taxi/Private hire car</td>\n",
       "      <td>2019</td>\n",
       "      <td>8</td>\n",
       "      <td>26</td>\n",
       "      <td>0</td>\n",
       "    </tr>\n",
       "    <tr>\n",
       "      <th>3</th>\n",
       "      <td>200701BS66128</td>\n",
       "      <td>Serious</td>\n",
       "      <td>2019-08-16</td>\n",
       "      <td>51.495478</td>\n",
       "      <td>Daylight</td>\n",
       "      <td>Kensington and Chelsea</td>\n",
       "      <td>-0.202731</td>\n",
       "      <td>1</td>\n",
       "      <td>4</td>\n",
       "      <td>Dry</td>\n",
       "      <td>Single carriageway</td>\n",
       "      <td>Urban</td>\n",
       "      <td>Fine no high winds</td>\n",
       "      <td>Bus or coach (17 or more pass seats)</td>\n",
       "      <td>2019</td>\n",
       "      <td>8</td>\n",
       "      <td>16</td>\n",
       "      <td>4</td>\n",
       "    </tr>\n",
       "    <tr>\n",
       "      <th>4</th>\n",
       "      <td>200701BS66837</td>\n",
       "      <td>Slight</td>\n",
       "      <td>2019-09-03</td>\n",
       "      <td>51.488576</td>\n",
       "      <td>Darkness - lights lit</td>\n",
       "      <td>Kensington and Chelsea</td>\n",
       "      <td>-0.192487</td>\n",
       "      <td>1</td>\n",
       "      <td>2</td>\n",
       "      <td>Dry</td>\n",
       "      <td>unaccounted</td>\n",
       "      <td>Urban</td>\n",
       "      <td>unaccounted</td>\n",
       "      <td>Other vehicle</td>\n",
       "      <td>2019</td>\n",
       "      <td>9</td>\n",
       "      <td>3</td>\n",
       "      <td>1</td>\n",
       "    </tr>\n",
       "    <tr>\n",
       "      <th>...</th>\n",
       "      <td>...</td>\n",
       "      <td>...</td>\n",
       "      <td>...</td>\n",
       "      <td>...</td>\n",
       "      <td>...</td>\n",
       "      <td>...</td>\n",
       "      <td>...</td>\n",
       "      <td>...</td>\n",
       "      <td>...</td>\n",
       "      <td>...</td>\n",
       "      <td>...</td>\n",
       "      <td>...</td>\n",
       "      <td>...</td>\n",
       "      <td>...</td>\n",
       "      <td>...</td>\n",
       "      <td>...</td>\n",
       "      <td>...</td>\n",
       "      <td>...</td>\n",
       "    </tr>\n",
       "    <tr>\n",
       "      <th>660674</th>\n",
       "      <td>201091NM01760</td>\n",
       "      <td>Slight</td>\n",
       "      <td>2022-02-18</td>\n",
       "      <td>57.374005</td>\n",
       "      <td>Daylight</td>\n",
       "      <td>Highland</td>\n",
       "      <td>-3.467828</td>\n",
       "      <td>2</td>\n",
       "      <td>1</td>\n",
       "      <td>Dry</td>\n",
       "      <td>Single carriageway</td>\n",
       "      <td>Rural</td>\n",
       "      <td>Fine no high winds</td>\n",
       "      <td>Car</td>\n",
       "      <td>2022</td>\n",
       "      <td>2</td>\n",
       "      <td>18</td>\n",
       "      <td>4</td>\n",
       "    </tr>\n",
       "    <tr>\n",
       "      <th>660675</th>\n",
       "      <td>201091NM01881</td>\n",
       "      <td>Slight</td>\n",
       "      <td>2022-02-21</td>\n",
       "      <td>57.232273</td>\n",
       "      <td>Darkness - no lighting</td>\n",
       "      <td>Highland</td>\n",
       "      <td>-3.809281</td>\n",
       "      <td>1</td>\n",
       "      <td>1</td>\n",
       "      <td>Frost or ice</td>\n",
       "      <td>Single carriageway</td>\n",
       "      <td>Rural</td>\n",
       "      <td>Fine no high winds</td>\n",
       "      <td>Car</td>\n",
       "      <td>2022</td>\n",
       "      <td>2</td>\n",
       "      <td>21</td>\n",
       "      <td>0</td>\n",
       "    </tr>\n",
       "    <tr>\n",
       "      <th>660676</th>\n",
       "      <td>201091NM01935</td>\n",
       "      <td>Slight</td>\n",
       "      <td>2022-02-23</td>\n",
       "      <td>57.585044</td>\n",
       "      <td>Daylight</td>\n",
       "      <td>Highland</td>\n",
       "      <td>-3.862727</td>\n",
       "      <td>1</td>\n",
       "      <td>3</td>\n",
       "      <td>Frost or ice</td>\n",
       "      <td>Single carriageway</td>\n",
       "      <td>Rural</td>\n",
       "      <td>Fine no high winds</td>\n",
       "      <td>Car</td>\n",
       "      <td>2022</td>\n",
       "      <td>2</td>\n",
       "      <td>23</td>\n",
       "      <td>2</td>\n",
       "    </tr>\n",
       "    <tr>\n",
       "      <th>660677</th>\n",
       "      <td>201091NM01964</td>\n",
       "      <td>Serious</td>\n",
       "      <td>2022-02-23</td>\n",
       "      <td>57.214898</td>\n",
       "      <td>Darkness - no lighting</td>\n",
       "      <td>Highland</td>\n",
       "      <td>-3.823997</td>\n",
       "      <td>1</td>\n",
       "      <td>2</td>\n",
       "      <td>Wet or damp</td>\n",
       "      <td>Single carriageway</td>\n",
       "      <td>Rural</td>\n",
       "      <td>Fine no high winds</td>\n",
       "      <td>Motorcycle over 500cc</td>\n",
       "      <td>2022</td>\n",
       "      <td>2</td>\n",
       "      <td>23</td>\n",
       "      <td>2</td>\n",
       "    </tr>\n",
       "    <tr>\n",
       "      <th>660678</th>\n",
       "      <td>201091NM02142</td>\n",
       "      <td>Serious</td>\n",
       "      <td>2022-02-28</td>\n",
       "      <td>57.575210</td>\n",
       "      <td>Daylight</td>\n",
       "      <td>Highland</td>\n",
       "      <td>-3.895673</td>\n",
       "      <td>1</td>\n",
       "      <td>1</td>\n",
       "      <td>Wet or damp</td>\n",
       "      <td>Dual carriageway</td>\n",
       "      <td>Rural</td>\n",
       "      <td>Snowing no high winds</td>\n",
       "      <td>Car</td>\n",
       "      <td>2022</td>\n",
       "      <td>2</td>\n",
       "      <td>28</td>\n",
       "      <td>0</td>\n",
       "    </tr>\n",
       "  </tbody>\n",
       "</table>\n",
       "<p>660679 rows × 18 columns</p>\n",
       "</div>"
      ],
      "text/plain": [
       "                Index Accident_Severity Accident Date   Latitude  \\\n",
       "0       200701BS64157           Serious    2019-06-05  51.506187   \n",
       "1       200701BS65737           Serious    2019-07-02  51.495029   \n",
       "2       200701BS66127           Serious    2019-08-26  51.517715   \n",
       "3       200701BS66128           Serious    2019-08-16  51.495478   \n",
       "4       200701BS66837            Slight    2019-09-03  51.488576   \n",
       "...               ...               ...           ...        ...   \n",
       "660674  201091NM01760            Slight    2022-02-18  57.374005   \n",
       "660675  201091NM01881            Slight    2022-02-21  57.232273   \n",
       "660676  201091NM01935            Slight    2022-02-23  57.585044   \n",
       "660677  201091NM01964           Serious    2022-02-23  57.214898   \n",
       "660678  201091NM02142           Serious    2022-02-28  57.575210   \n",
       "\n",
       "                   Light_Conditions           District Area  Longitude  \\\n",
       "0             Darkness - lights lit  Kensington and Chelsea  -0.209082   \n",
       "1                          Daylight  Kensington and Chelsea  -0.173647   \n",
       "2       Darkness - lighting unknown  Kensington and Chelsea  -0.210215   \n",
       "3                          Daylight  Kensington and Chelsea  -0.202731   \n",
       "4             Darkness - lights lit  Kensington and Chelsea  -0.192487   \n",
       "...                             ...                     ...        ...   \n",
       "660674                     Daylight                Highland  -3.467828   \n",
       "660675       Darkness - no lighting                Highland  -3.809281   \n",
       "660676                     Daylight                Highland  -3.862727   \n",
       "660677       Darkness - no lighting                Highland  -3.823997   \n",
       "660678                     Daylight                Highland  -3.895673   \n",
       "\n",
       "        Number_of_Casualties  Number_of_Vehicles Road_Surface_Conditions  \\\n",
       "0                          1                   2                     Dry   \n",
       "1                          1                   2             Wet or damp   \n",
       "2                          1                   3                     Dry   \n",
       "3                          1                   4                     Dry   \n",
       "4                          1                   2                     Dry   \n",
       "...                      ...                 ...                     ...   \n",
       "660674                     2                   1                     Dry   \n",
       "660675                     1                   1            Frost or ice   \n",
       "660676                     1                   3            Frost or ice   \n",
       "660677                     1                   2             Wet or damp   \n",
       "660678                     1                   1             Wet or damp   \n",
       "\n",
       "                 Road_Type Urban_or_Rural_Area     Weather_Conditions  \\\n",
       "0       Single carriageway               Urban     Fine no high winds   \n",
       "1       Single carriageway               Urban  Raining no high winds   \n",
       "2              unaccounted               Urban            unaccounted   \n",
       "3       Single carriageway               Urban     Fine no high winds   \n",
       "4              unaccounted               Urban            unaccounted   \n",
       "...                    ...                 ...                    ...   \n",
       "660674  Single carriageway               Rural     Fine no high winds   \n",
       "660675  Single carriageway               Rural     Fine no high winds   \n",
       "660676  Single carriageway               Rural     Fine no high winds   \n",
       "660677  Single carriageway               Rural     Fine no high winds   \n",
       "660678    Dual carriageway               Rural  Snowing no high winds   \n",
       "\n",
       "                                Vehicle_Type  Year  Month  Day  DayOfWeek  \n",
       "0                                        Car  2019      6    5          2  \n",
       "1                                        Car  2019      7    2          1  \n",
       "2                      Taxi/Private hire car  2019      8   26          0  \n",
       "3       Bus or coach (17 or more pass seats)  2019      8   16          4  \n",
       "4                              Other vehicle  2019      9    3          1  \n",
       "...                                      ...   ...    ...  ...        ...  \n",
       "660674                                   Car  2022      2   18          4  \n",
       "660675                                   Car  2022      2   21          0  \n",
       "660676                                   Car  2022      2   23          2  \n",
       "660677                 Motorcycle over 500cc  2022      2   23          2  \n",
       "660678                                   Car  2022      2   28          0  \n",
       "\n",
       "[660679 rows x 18 columns]"
      ]
     },
     "execution_count": 30,
     "metadata": {},
     "output_type": "execute_result"
    }
   ],
   "source": [
    "road_accident"
   ]
  },
  {
   "cell_type": "code",
   "execution_count": 31,
   "id": "c070440e-bb74-4a37-a951-ec576093ea4f",
   "metadata": {},
   "outputs": [
    {
     "data": {
      "text/plain": [
       "Index(['Index', 'Accident_Severity', 'Accident Date', 'Latitude',\n",
       "       'Light_Conditions', 'District Area', 'Longitude',\n",
       "       'Number_of_Casualties', 'Number_of_Vehicles', 'Road_Surface_Conditions',\n",
       "       'Road_Type', 'Urban_or_Rural_Area', 'Weather_Conditions',\n",
       "       'Vehicle_Type', 'Year', 'Month', 'Day', 'DayOfWeek'],\n",
       "      dtype='object')"
      ]
     },
     "execution_count": 31,
     "metadata": {},
     "output_type": "execute_result"
    }
   ],
   "source": [
    "road_accident.columns"
   ]
  },
  {
   "cell_type": "markdown",
   "id": "8dbdadb6-a34d-4dd0-96c6-4b55425628fa",
   "metadata": {},
   "source": [
    "<h2>1. What is the most common accident severity?</h2>"
   ]
  },
  {
   "cell_type": "code",
   "execution_count": 32,
   "id": "3260e18f-b747-49c0-92bd-9d8a53086739",
   "metadata": {},
   "outputs": [
    {
     "data": {
      "text/plain": [
       "Accident_Severity\n",
       "Slight     563801\n",
       "Serious     88217\n",
       "Fatal        8661\n",
       "Name: count, dtype: int64"
      ]
     },
     "execution_count": 32,
     "metadata": {},
     "output_type": "execute_result"
    }
   ],
   "source": [
    "road_accident['Accident_Severity'].value_counts()"
   ]
  },
  {
   "cell_type": "markdown",
   "id": "1e760081-d5f9-4576-9644-5ace4ffb7767",
   "metadata": {},
   "source": [
    "<h1>INSIGHT</h1>\n",
    "<h3>The most common accident severity based on the given data is slight.</h3>"
   ]
  },
  {
   "cell_type": "markdown",
   "id": "9da34fb1-3520-4100-87f7-e7fc48b30b1e",
   "metadata": {},
   "source": [
    "<h2>2. What is the distribution of accident severity that is recorded? </h2>"
   ]
  },
  {
   "cell_type": "code",
   "execution_count": 33,
   "id": "b1c40bb9-bfd0-4898-8d8c-980555ceaf63",
   "metadata": {},
   "outputs": [
    {
     "data": {
      "text/plain": [
       "District Area\n",
       "Birmingham            13491\n",
       "Leeds                  8898\n",
       "Manchester             6720\n",
       "Bradford               6212\n",
       "Sheffield              5710\n",
       "                      ...  \n",
       "Berwick-upon-Tweed      153\n",
       "Teesdale                142\n",
       "Shetland Islands        133\n",
       "Orkney Islands          117\n",
       "Clackmannanshire         91\n",
       "Name: count, Length: 422, dtype: int64"
      ]
     },
     "execution_count": 33,
     "metadata": {},
     "output_type": "execute_result"
    }
   ],
   "source": [
    "road_accident['District Area'].value_counts()"
   ]
  },
  {
   "cell_type": "markdown",
   "id": "7a92c226-5c50-4126-a6d9-9bc390260963",
   "metadata": {},
   "source": [
    "<h1>INSIGHT</h1>\n",
    "<h3>Birmingham district recorded a total of 13491 accident.</h3>"
   ]
  },
  {
   "cell_type": "markdown",
   "id": "ac61bd59-07a4-4ac0-acb3-f98f3d60a085",
   "metadata": {},
   "source": [
    "<h2>3. Which district area has the lowest number of accidents overall?</h2>"
   ]
  },
  {
   "cell_type": "code",
   "execution_count": 34,
   "id": "34404012-eef9-4d0c-a20b-dd7b24e1eb23",
   "metadata": {},
   "outputs": [
    {
     "data": {
      "text/plain": [
       "District Area\n",
       "Birmingham            13491\n",
       "Leeds                  8898\n",
       "Manchester             6720\n",
       "Bradford               6212\n",
       "Sheffield              5710\n",
       "                      ...  \n",
       "Berwick-upon-Tweed      153\n",
       "Teesdale                142\n",
       "Shetland Islands        133\n",
       "Orkney Islands          117\n",
       "Clackmannanshire         91\n",
       "Name: count, Length: 422, dtype: int64"
      ]
     },
     "execution_count": 34,
     "metadata": {},
     "output_type": "execute_result"
    }
   ],
   "source": [
    "road_accident['District Area'].value_counts()"
   ]
  },
  {
   "cell_type": "markdown",
   "id": "05f84b66-7925-4463-98d9-68765e3d7169",
   "metadata": {},
   "source": [
    "<h1>INSIGHT</h1>\n",
    "<h3>Based on the result above, the district that has the lowest number of accidents is Clackmannashire.</h3>"
   ]
  },
  {
   "cell_type": "markdown",
   "id": "ce4cc577-4149-4528-9d67-9691fdbd2413",
   "metadata": {},
   "source": [
    "<h2>4. Which Road_Type has the lowest average number of casualties?</h2>"
   ]
  },
  {
   "cell_type": "code",
   "execution_count": 35,
   "id": "efebd7df-cca8-4c91-a1cb-2d3a766e6606",
   "metadata": {},
   "outputs": [],
   "source": [
    "lowest_casualty_road_type = road_accident.groupby('Road_Type')['Number_of_Casualties'].mean()"
   ]
  },
  {
   "cell_type": "code",
   "execution_count": 36,
   "id": "23b41f7f-3a7f-4e19-899b-23e216a70041",
   "metadata": {},
   "outputs": [
    {
     "data": {
      "text/plain": [
       "Road_Type\n",
       "Dual carriageway      1.477279\n",
       "One way street        1.192713\n",
       "Roundabout            1.274891\n",
       "Single carriageway    1.344666\n",
       "Slip road             1.423661\n",
       "unaccounted           1.248230\n",
       "Name: Number_of_Casualties, dtype: float64"
      ]
     },
     "execution_count": 36,
     "metadata": {},
     "output_type": "execute_result"
    }
   ],
   "source": [
    "lowest_casualty_road_type"
   ]
  },
  {
   "cell_type": "markdown",
   "id": "e822961e-d395-480e-9f83-5606daef3f9e",
   "metadata": {},
   "source": [
    "<h1>INSIGHT</h1>\n",
    "<h3>The roundabout road type has recorded the lowest average number of casualties among all the road types.</h3>"
   ]
  },
  {
   "cell_type": "markdown",
   "id": "f2d25430-68f6-4fe9-ba21-5a24b493c0b5",
   "metadata": {},
   "source": [
    "<h2>5. What is the distribution of road type for accidents with 10 or more casualties?</h2>"
   ]
  },
  {
   "cell_type": "code",
   "execution_count": 37,
   "id": "642181cb-1eac-42e4-978f-8dd31a435d77",
   "metadata": {},
   "outputs": [
    {
     "data": {
      "text/plain": [
       "Road_Type\n",
       "Single carriageway    125\n",
       "Dual carriageway       77\n",
       "Slip road               8\n",
       "Roundabout              7\n",
       "One way street          4\n",
       "unaccounted             1\n",
       "Name: count, dtype: int64"
      ]
     },
     "execution_count": 37,
     "metadata": {},
     "output_type": "execute_result"
    }
   ],
   "source": [
    "road_accident[road_accident['Number_of_Casualties'] >= 10]['Road_Type'].value_counts()"
   ]
  },
  {
   "cell_type": "markdown",
   "id": "f39c66ac-f5e2-4015-9484-7fe205a9a369",
   "metadata": {},
   "source": [
    "<h1>INSIGHT</h1>\n",
    "<h3>Single carriageway road type recorded more casualties compared to other road types.</h3>"
   ]
  },
  {
   "cell_type": "markdown",
   "id": "3e2e82d5-6755-4a26-8007-5952ccf50ac4",
   "metadata": {},
   "source": [
    "<h2>6. What is the total number of casualties for each district area?</h2>"
   ]
  },
  {
   "cell_type": "code",
   "execution_count": 38,
   "id": "7db7d834-a284-4af7-b977-960df64a49e0",
   "metadata": {},
   "outputs": [],
   "source": [
    "total_casualties_by_district = road_accident.groupby('District Area')['Number_of_Casualties'].sum()"
   ]
  },
  {
   "cell_type": "code",
   "execution_count": 39,
   "id": "4823fce6-8e7c-43e6-9d3b-83000eafab87",
   "metadata": {},
   "outputs": [
    {
     "data": {
      "text/plain": [
       "District Area\n",
       "Aberdeen City    1508\n",
       "Aberdeenshire    2529\n",
       "Adur              817\n",
       "Allerdale        1663\n",
       "Alnwick           351\n",
       "                 ... \n",
       "Wychavon         1943\n",
       "Wycombe          2442\n",
       "Wyre             1706\n",
       "Wyre Forest      1340\n",
       "York             2453\n",
       "Name: Number_of_Casualties, Length: 422, dtype: int64"
      ]
     },
     "execution_count": 39,
     "metadata": {},
     "output_type": "execute_result"
    }
   ],
   "source": [
    "total_casualties_by_district"
   ]
  },
  {
   "cell_type": "markdown",
   "id": "03c1a060-2a6d-4745-a515-1d46eadbb73e",
   "metadata": {},
   "source": [
    "<h1>INSIGHT</h1><h3>The results above shows the total numbers of casualties per district area. </h3>"
   ]
  },
  {
   "cell_type": "code",
   "execution_count": 40,
   "id": "4994b3ed-7d2c-4edb-ae18-df44b02e8069",
   "metadata": {},
   "outputs": [
    {
     "data": {
      "text/plain": [
       "np.float64(60.757544)"
      ]
     },
     "execution_count": 40,
     "metadata": {},
     "output_type": "execute_result"
    }
   ],
   "source": [
    "road_accident['Latitude'].max()"
   ]
  },
  {
   "cell_type": "markdown",
   "id": "8ac18585-989b-429c-8ae3-4c6595fba9d1",
   "metadata": {},
   "source": [
    "<h2>7. What is the most common vehicle type involved in accidents?</h2>"
   ]
  },
  {
   "cell_type": "code",
   "execution_count": 41,
   "id": "9346f0f6-c01e-43eb-a0a8-e308d239c178",
   "metadata": {},
   "outputs": [],
   "source": [
    "most_common_vehicle = road_accident['Vehicle_Type'].mode()[0]"
   ]
  },
  {
   "cell_type": "code",
   "execution_count": 42,
   "id": "9fbb5b36-a0ea-400d-9398-59952d967871",
   "metadata": {},
   "outputs": [
    {
     "data": {
      "text/plain": [
       "'Car'"
      ]
     },
     "execution_count": 42,
     "metadata": {},
     "output_type": "execute_result"
    }
   ],
   "source": [
    "most_common_vehicle"
   ]
  },
  {
   "cell_type": "markdown",
   "id": "58c07ffd-d20b-48ba-ad8d-347ab399ce92",
   "metadata": {},
   "source": [
    "<h1>INSIGHT</h1>\n",
    "<h3>The most common vehicle type that is involved in accidents is car.</h3>"
   ]
  },
  {
   "cell_type": "markdown",
   "id": "5abeeb37-6dd8-48aa-839a-046b72760dc5",
   "metadata": {},
   "source": [
    "<h2>8. What is the average number of casualties for each accident severity level?</h2>"
   ]
  },
  {
   "cell_type": "code",
   "execution_count": 43,
   "id": "bba7343a-6963-4ede-b843-7da7af454751",
   "metadata": {},
   "outputs": [],
   "source": [
    "avg_casualties_by_severity = road_accident.groupby('Accident_Severity')['Number_of_Casualties'].mean()"
   ]
  },
  {
   "cell_type": "code",
   "execution_count": 44,
   "id": "e2e86a98-8eae-40d2-9b87-c6d9b7999f49",
   "metadata": {},
   "outputs": [
    {
     "data": {
      "text/plain": [
       "Accident_Severity\n",
       "Fatal      1.903129\n",
       "Serious    1.467280\n",
       "Slight     1.331402\n",
       "Name: Number_of_Casualties, dtype: float64"
      ]
     },
     "execution_count": 44,
     "metadata": {},
     "output_type": "execute_result"
    }
   ],
   "source": [
    "avg_casualties_by_severity"
   ]
  },
  {
   "cell_type": "markdown",
   "id": "c61f3a50-346e-4994-a5d4-d284ab4d01d0",
   "metadata": {},
   "source": [
    "<h1>INSIGHT</h1>\n",
    "<h3>Based on the results shown above, fatal holds the most number of casualties compared to seriouus and slight accident severity level.</h3>"
   ]
  },
  {
   "cell_type": "markdown",
   "id": "1f8bcdd4-1655-40d1-98e4-213d2efbe84b",
   "metadata": {},
   "source": [
    "<h2>9. Perform a correlation analysis between number of casualties and number of vehicles.</h2>"
   ]
  },
  {
   "cell_type": "code",
   "execution_count": 45,
   "id": "449dd44f-4e66-413c-a9ef-3559c76ff9da",
   "metadata": {},
   "outputs": [],
   "source": [
    "corr_cas_v = road_accident['Number_of_Casualties'].corr(road_accident['Number_of_Vehicles'])"
   ]
  },
  {
   "cell_type": "code",
   "execution_count": 46,
   "id": "3b287cfa-44e7-4e84-b85f-05ad9bdf662b",
   "metadata": {},
   "outputs": [
    {
     "data": {
      "text/plain": [
       "np.float64(0.2288888612692756)"
      ]
     },
     "execution_count": 46,
     "metadata": {},
     "output_type": "execute_result"
    }
   ],
   "source": [
    "corr_cas_v"
   ]
  },
  {
   "cell_type": "markdown",
   "id": "defb3f7d-38d5-4043-8269-62a2e6fe2973",
   "metadata": {},
   "source": [
    "<h1>INSIGHT</h1>\n",
    "<h3>Shown above is the correlation analysis between number of casualties and number of vehicles.</h3>"
   ]
  },
  {
   "cell_type": "markdown",
   "id": "cf209d7c-aaeb-449e-a223-3010b0a3d1eb",
   "metadata": {},
   "source": [
    "<h2>10. What are the top 5 most common vehicle types involved in accidents?</h2>"
   ]
  },
  {
   "cell_type": "code",
   "execution_count": 47,
   "id": "01b989b0-ac19-4c01-bf37-c2ac39a202ac",
   "metadata": {},
   "outputs": [],
   "source": [
    "top_vehicle_types = road_accident['Vehicle_Type'].value_counts().head(5)"
   ]
  },
  {
   "cell_type": "code",
   "execution_count": 48,
   "id": "fc424b10-7456-4a68-b7d4-5eb22cc5d4da",
   "metadata": {},
   "outputs": [
    {
     "data": {
      "text/plain": [
       "Vehicle_Type\n",
       "Car                                     497992\n",
       "Van / Goods 3.5 tonnes mgw or under      34160\n",
       "Bus or coach (17 or more pass seats)     25878\n",
       "Motorcycle over 500cc                    25657\n",
       "Goods 7.5 tonnes mgw and over            17307\n",
       "Name: count, dtype: int64"
      ]
     },
     "execution_count": 48,
     "metadata": {},
     "output_type": "execute_result"
    }
   ],
   "source": [
    "top_vehicle_types"
   ]
  },
  {
   "cell_type": "markdown",
   "id": "002407d6-920c-4ae6-ac23-3c6c0e1018fd",
   "metadata": {},
   "source": [
    "<h1>INSIGHT</h1>\n",
    "<h3>These are the top 5 most common vehicle types that are usually involved in acccidents that might require more attention in terms of safety or vehicle inspections.</h3>"
   ]
  },
  {
   "cell_type": "markdown",
   "id": "d73a5187-c2c9-4950-ab2a-b5589bc43a71",
   "metadata": {},
   "source": [
    "<h2>11.  How many accidents occurred during 'Darkness - lights lit' conditions?</h2>"
   ]
  },
  {
   "cell_type": "code",
   "execution_count": 49,
   "id": "fa744bce-3d5d-492e-8ade-616a37369338",
   "metadata": {},
   "outputs": [],
   "source": [
    "dark_lights_lit_accidents = road_accident[road_accident['Light_Conditions'] == 'Darkness - lights lit'].value_counts().sum()"
   ]
  },
  {
   "cell_type": "code",
   "execution_count": 50,
   "id": "b3cbd3e9-2553-4ba6-b8bc-f9a260af8f6d",
   "metadata": {},
   "outputs": [
    {
     "data": {
      "text/plain": [
       "np.int64(129335)"
      ]
     },
     "execution_count": 50,
     "metadata": {},
     "output_type": "execute_result"
    }
   ],
   "source": [
    "dark_lights_lit_accidents"
   ]
  },
  {
   "cell_type": "markdown",
   "id": "df50c20d-2891-4a4e-934a-61ac0ac2f033",
   "metadata": {},
   "source": [
    "<h1>INSIGHT</h1>\n",
    "<h3>A total of 129335 accidents occured during darkness - light lit conditions. It seems that street lighting plays a significant role in accident prevention.</h3>"
   ]
  },
  {
   "cell_type": "markdown",
   "id": "7e38fddd-f92c-4162-a6f5-a83dbf00a1e4",
   "metadata": {},
   "source": [
    "<h2>12. What is the avergae casualties per year?</h2>"
   ]
  },
  {
   "cell_type": "code",
   "execution_count": 51,
   "id": "1980f88c-b889-452f-a7ac-32ae11e9366c",
   "metadata": {},
   "outputs": [],
   "source": [
    "avg_casualties_by_year = road_accident.groupby('Accident Date')['Number_of_Casualties'].mean()"
   ]
  },
  {
   "cell_type": "code",
   "execution_count": 52,
   "id": "439fe289-38e0-42ff-9d24-d14e35b1c2c9",
   "metadata": {},
   "outputs": [
    {
     "data": {
      "text/plain": [
       "Accident Date\n",
       "2019-01-01    1.474627\n",
       "2019-01-02    1.364865\n",
       "2019-01-03    1.523929\n",
       "2019-01-04    1.365432\n",
       "2019-01-05    1.319101\n",
       "                ...   \n",
       "2022-12-27    1.486034\n",
       "2022-12-28    1.513812\n",
       "2022-12-29    1.415888\n",
       "2022-12-30    1.415205\n",
       "2022-12-31    1.357513\n",
       "Name: Number_of_Casualties, Length: 1461, dtype: float64"
      ]
     },
     "execution_count": 52,
     "metadata": {},
     "output_type": "execute_result"
    }
   ],
   "source": [
    "avg_casualties_by_year"
   ]
  },
  {
   "cell_type": "markdown",
   "id": "c3af6ab3-45e5-493b-800a-d50405569150",
   "metadata": {},
   "source": [
    "<h1>INSIGHT</h1>\n",
    "<h3>The result above shows how the number of casualties increase or decrease each year.</h3>"
   ]
  },
  {
   "cell_type": "markdown",
   "id": "61228159-c3f3-4703-9fe4-fe8abdad18c7",
   "metadata": {},
   "source": [
    "<h2>13. What is the most common light conditions for fatal accidents?</h2>"
   ]
  },
  {
   "cell_type": "code",
   "execution_count": 53,
   "id": "5b76b7f4-d2ee-4371-ab5a-f1c906c11932",
   "metadata": {},
   "outputs": [
    {
     "data": {
      "text/plain": [
       "'Daylight'"
      ]
     },
     "execution_count": 53,
     "metadata": {},
     "output_type": "execute_result"
    }
   ],
   "source": [
    "road_accident[road_accident['Accident_Severity'] == 'Fatal']['Light_Conditions'].mode()[0]"
   ]
  },
  {
   "cell_type": "markdown",
   "id": "722797e3-0d15-417d-8202-91ab3ca89adc",
   "metadata": {},
   "source": [
    "<h1>INSIGHT</h1>\n",
    "<h3>Fatal accidents usually occur during daylight.</h3>"
   ]
  },
  {
   "cell_type": "markdown",
   "id": "16c8141e-d0a5-43f6-918d-644b12283d62",
   "metadata": {},
   "source": [
    "<h2>14. Compare the average number of casualties in the Kensington and Chelsea district area to the Highland district area.</h2>"
   ]
  },
  {
   "cell_type": "code",
   "execution_count": 54,
   "id": "b722091c-0f27-47b9-afa6-9006ed36d88d",
   "metadata": {},
   "outputs": [],
   "source": [
    "k_c_avg = np.round(road_accident[road_accident['District Area'] == 'Kensington and Chelsea']['Number_of_Casualties'].mean() , 1)"
   ]
  },
  {
   "cell_type": "code",
   "execution_count": 55,
   "id": "42ed41d4-a975-48bb-86d2-aaf15558fdb4",
   "metadata": {},
   "outputs": [
    {
     "data": {
      "text/plain": [
       "np.float64(1.1)"
      ]
     },
     "execution_count": 55,
     "metadata": {},
     "output_type": "execute_result"
    }
   ],
   "source": [
    "k_c_avg"
   ]
  },
  {
   "cell_type": "code",
   "execution_count": 56,
   "id": "3a2d14db-c490-4c96-8dc1-0f790e6a302f",
   "metadata": {},
   "outputs": [],
   "source": [
    "highland_avg = np.round(road_accident[road_accident['District Area'] == 'Highland']['Number_of_Casualties'].mean() , 1)"
   ]
  },
  {
   "cell_type": "code",
   "execution_count": 57,
   "id": "74be8f80-6569-4b24-a35f-bf5f622789c0",
   "metadata": {},
   "outputs": [
    {
     "data": {
      "text/plain": [
       "np.float64(1.5)"
      ]
     },
     "execution_count": 57,
     "metadata": {},
     "output_type": "execute_result"
    }
   ],
   "source": [
    "highland_avg"
   ]
  },
  {
   "cell_type": "markdown",
   "id": "0e6261fc-e969-4761-b576-a0b00e9fc8fd",
   "metadata": {},
   "source": [
    "<h1>INSIGHT</h1>\n",
    "<h3>The Highland district area had a high number of casualties, with an average of 1.5, which is much higher compared to the number of casualties in the district area of Kensington and Chelsea.</h3>"
   ]
  },
  {
   "cell_type": "markdown",
   "id": "3385ef22-1fe8-4867-98d6-7fa115f138c8",
   "metadata": {},
   "source": [
    "<h2>15. What is the average number of casualties for accidents on a Single carriageway with Fine no high winds?\n",
    "</h2>"
   ]
  },
  {
   "cell_type": "code",
   "execution_count": 58,
   "id": "d7aa5263-9a23-4c58-9446-e9d2d45ac32a",
   "metadata": {},
   "outputs": [
    {
     "data": {
      "text/plain": [
       "np.float64(1.3)"
      ]
     },
     "execution_count": 58,
     "metadata": {},
     "output_type": "execute_result"
    }
   ],
   "source": [
    "np.round(road_accident[(road_accident['Road_Type'] == 'Single carriageway') & (road_accident['Weather_Conditions'] == 'Fine no high winds')]['Number_of_Casualties'].mean() , 1)"
   ]
  },
  {
   "cell_type": "markdown",
   "id": "1b5fd7fd-8f90-4f69-8d7b-28c690e878b5",
   "metadata": {},
   "source": [
    "<h1>INSIGHT</h1>\n",
    "<h3>The average number of casualties for accidents on a Single carriageway with Fine no high winds is 1.3</h3>"
   ]
  },
  {
   "cell_type": "markdown",
   "id": "4da3c9e8-131f-467b-88e2-845d558eda85",
   "metadata": {},
   "source": [
    "<h2>16. What is the average number of vehicles involved in accidents based on road surface conditions? </h2>"
   ]
  },
  {
   "cell_type": "code",
   "execution_count": 59,
   "id": "c346fa6e-08c5-40f8-95f9-16617af3007b",
   "metadata": {},
   "outputs": [
    {
     "data": {
      "text/plain": [
       "Road_Surface_Conditions\n",
       "Dry                     1.841792\n",
       "Flood over 3cm. deep    1.610619\n",
       "Frost or ice            1.640006\n",
       "Snow                    1.746859\n",
       "Wet or damp             1.829161\n",
       "unaccounted             1.742424\n",
       "Name: Number_of_Vehicles, dtype: float64"
      ]
     },
     "execution_count": 59,
     "metadata": {},
     "output_type": "execute_result"
    }
   ],
   "source": [
    "road_accident.groupby('Road_Surface_Conditions')['Number_of_Vehicles'].mean()"
   ]
  },
  {
   "cell_type": "markdown",
   "id": "ca036e31-328d-42e9-8400-dd212f84d892",
   "metadata": {},
   "source": [
    "<h1>INSIGHT</h1>\n",
    "<h3>The results above shows if certain road surface conditions lead to multi-vehicle collisions.</h3>"
   ]
  },
  {
   "cell_type": "markdown",
   "id": "ec3e8f07-e565-4db1-a744-43bcca6bd2a6",
   "metadata": {},
   "source": [
    "<h2>17. How many casualties involve is Taxi/Private hire car?</h2>"
   ]
  },
  {
   "cell_type": "code",
   "execution_count": 60,
   "id": "1613ee18-c9ed-4060-9f06-783766c940c8",
   "metadata": {},
   "outputs": [],
   "source": [
    "taxi_casualties = road_accident[road_accident['Vehicle_Type'] == 'Taxi/Private hire car']['Number_of_Casualties'].sum()"
   ]
  },
  {
   "cell_type": "code",
   "execution_count": 61,
   "id": "554655da-5ad4-478f-8150-cfca69590aa6",
   "metadata": {},
   "outputs": [
    {
     "data": {
      "text/plain": [
       "np.int64(18195)"
      ]
     },
     "execution_count": 61,
     "metadata": {},
     "output_type": "execute_result"
    }
   ],
   "source": [
    "taxi_casualties"
   ]
  },
  {
   "cell_type": "markdown",
   "id": "314d6366-6c97-4d93-8b06-621bde23d51e",
   "metadata": {},
   "source": [
    "<h1>INSIGHT</h1>\n",
    "<h3>There are 18195 casualties involve in Taxi/Private hire car.</h3>"
   ]
  },
  {
   "cell_type": "markdown",
   "id": "e20d5b69-3f42-4adc-8a2f-47de8c27adf6",
   "metadata": {},
   "source": [
    "<h2>18. Which vehicle type is most frequently involved in fatal accidents?</h2>"
   ]
  },
  {
   "cell_type": "code",
   "execution_count": 62,
   "id": "00e2d90a-5db6-4558-a79c-10932201bedd",
   "metadata": {},
   "outputs": [
    {
     "data": {
      "text/plain": [
       "Vehicle_Type\n",
       "Car                                      6577\n",
       "Van / Goods 3.5 tonnes mgw or under       467\n",
       "Motorcycle over 500cc                     339\n",
       "Bus or coach (17 or more pass seats)      325\n",
       "Goods 7.5 tonnes mgw and over             216\n",
       "Motorcycle 125cc and under                189\n",
       "Taxi/Private hire car                     155\n",
       "Motorcycle over 125cc and up to 500cc     105\n",
       "Motorcycle 50cc and under                  95\n",
       "Other vehicle                              70\n",
       "Goods over 3.5t. and under 7.5t            67\n",
       "Minibus (8 - 16 passenger seats)           29\n",
       "Agricultural vehicle                       21\n",
       "Pedal cycle                                 6\n",
       "Data missing or out of range                0\n",
       "Ridden horse                                0\n",
       "Name: count, dtype: int64"
      ]
     },
     "execution_count": 62,
     "metadata": {},
     "output_type": "execute_result"
    }
   ],
   "source": [
    "road_accident[road_accident['Accident_Severity'] == 'Fatal']['Vehicle_Type'].value_counts()"
   ]
  },
  {
   "cell_type": "markdown",
   "id": "2f5c88ad-fb5e-4b99-9ad1-b878aec48194",
   "metadata": {},
   "source": [
    "<h1>INSIGHT</h1>\n",
    "<h3>Car accident is the type of vehicle that is most frequently involved in fatal accidents. </h3>"
   ]
  },
  {
   "cell_type": "markdown",
   "id": "0afa8e81-14df-44ca-b97a-cbf9b28e4b5e",
   "metadata": {},
   "source": [
    "<h2>19. What is the total number of casualties?</h2>"
   ]
  },
  {
   "cell_type": "code",
   "execution_count": 63,
   "id": "9b369c25-c7bd-4a98-b1e2-d916cd401c27",
   "metadata": {},
   "outputs": [
    {
     "data": {
      "text/plain": [
       "np.int64(896568)"
      ]
     },
     "execution_count": 63,
     "metadata": {},
     "output_type": "execute_result"
    }
   ],
   "source": [
    "road_accident['Number_of_Casualties'].sum()"
   ]
  },
  {
   "cell_type": "markdown",
   "id": "69b7091e-8c95-4650-95f4-da615024ca86",
   "metadata": {},
   "source": [
    "<h1>INSIGHT</h1>\n",
    "<h3>The total number of casualties recorded a total of 896568 from 2019-2022.</h3>"
   ]
  },
  {
   "cell_type": "markdown",
   "id": "9c670893-3549-4baa-ac3e-e33e56d2555d",
   "metadata": {},
   "source": [
    "<h2>20. How many casualties involved in bus or coach?</h2>"
   ]
  },
  {
   "cell_type": "code",
   "execution_count": 64,
   "id": "d179d88c-4a75-4d2b-8aeb-dcffc1322845",
   "metadata": {},
   "outputs": [],
   "source": [
    "bus_casualties = road_accident[road_accident['Vehicle_Type'] == 'Bus or coach (17 or more pass seats)']['Number_of_Casualties'].value_counts().sum()"
   ]
  },
  {
   "cell_type": "code",
   "execution_count": 65,
   "id": "435041a5-0b5c-41a1-8e1d-8e9979db45b2",
   "metadata": {},
   "outputs": [
    {
     "data": {
      "text/plain": [
       "np.int64(25878)"
      ]
     },
     "execution_count": 65,
     "metadata": {},
     "output_type": "execute_result"
    }
   ],
   "source": [
    "bus_casualties"
   ]
  },
  {
   "cell_type": "markdown",
   "id": "704c9b13-b0a7-4da3-9c52-a9e7638f3e31",
   "metadata": {},
   "source": [
    "<h1>INSIGHT</h1>\n",
    "<h3>Shown above is the result of casualties involving bus or coach.</h3>"
   ]
  },
  {
   "cell_type": "code",
   "execution_count": 66,
   "id": "6c54626b-a894-46de-9318-0ba1dcb50f22",
   "metadata": {},
   "outputs": [],
   "source": [
    "year = road_accident.groupby('Year')['Number_of_Vehicles'].sum()"
   ]
  },
  {
   "cell_type": "code",
   "execution_count": 67,
   "id": "e140ce64-8d6b-4f6f-83cc-ba4ce5436997",
   "metadata": {},
   "outputs": [
    {
     "data": {
      "text/plain": [
       "Index([2019, 2020, 2021, 2022], dtype='int32', name='Year')"
      ]
     },
     "execution_count": 67,
     "metadata": {},
     "output_type": "execute_result"
    }
   ],
   "source": [
    "year.index"
   ]
  },
  {
   "cell_type": "code",
   "execution_count": 68,
   "id": "6fc16189-be85-49f3-9fb3-c59ef37fef1c",
   "metadata": {},
   "outputs": [
    {
     "data": {
      "text/plain": [
       "array([334966, 311604, 298687, 264615])"
      ]
     },
     "execution_count": 68,
     "metadata": {},
     "output_type": "execute_result"
    }
   ],
   "source": [
    "year.values"
   ]
  },
  {
   "cell_type": "code",
   "execution_count": 69,
   "id": "c29550f3-1fac-42f1-b509-7f3182c96d0e",
   "metadata": {},
   "outputs": [
    {
     "data": {
      "image/png": "[encoded data removed]",
      "text/plain": [
       "<Figure size 640x480 with 1 Axes>"
      ]
     },
     "metadata": {},
     "output_type": "display_data"
    }
   ],
   "source": [
    "plt.pie(year,\n",
    "        labels = year.index,\n",
    "        startangle = 90,\n",
    "        autopct = '%1.1f%%' ,\n",
    "        colors = ['cadetblue', 'thistle', 'plum', 'firebrick'])\n",
    "plt.show()"
   ]
  },
  {
   "cell_type": "markdown",
   "id": "9bb3947e-2fc1-4176-bc53-712483b86b1e",
   "metadata": {},
   "source": [
    "<h1>INSIGHT 21</h1>\n",
    "<h3>The pie chart above shows the distribution of number of accident every year. Year 2019 having the most number of accident recorded that tallied 27.7%, followed by year 2020 that has 25.8% of accident happens over the year.</h3>"
   ]
  },
  {
   "cell_type": "code",
   "execution_count": 70,
   "id": "30d5feb1-d8b2-4fc3-9cda-088209b2fbb0",
   "metadata": {},
   "outputs": [],
   "source": [
    "df_2022 = road_accident[road_accident['Accident Date'].dt.year == 2022]"
   ]
  },
  {
   "cell_type": "code",
   "execution_count": 71,
   "id": "f22f4501-6360-4a16-b9b6-d25a463f8b2f",
   "metadata": {},
   "outputs": [],
   "source": [
    "total_casualties_2022 = df_2022['Number_of_Casualties'].sum()"
   ]
  },
  {
   "cell_type": "code",
   "execution_count": 72,
   "id": "d33bf478-5a93-4258-83dd-779cb64bb838",
   "metadata": {},
   "outputs": [
    {
     "data": {
      "text/plain": [
       "np.int64(195737)"
      ]
     },
     "execution_count": 72,
     "metadata": {},
     "output_type": "execute_result"
    }
   ],
   "source": [
    "total_casualties_2022"
   ]
  },
  {
   "cell_type": "markdown",
   "id": "3eccd47b-ce95-4896-a14e-0f5bb195ab09",
   "metadata": {},
   "source": [
    "<h1>INSIGHT 22</h1>\n",
    "<h3>Year 2022 has recorded 195737 casualties including injuries and deaths.</h3>"
   ]
  },
  {
   "cell_type": "code",
   "execution_count": 73,
   "id": "21884ce3-1bd5-4eab-b8a8-14d64cca7c62",
   "metadata": {},
   "outputs": [
    {
     "data": {
      "image/png": "[encoded data removed]",
      "text/plain": [
       "<Figure size 1000x600 with 1 Axes>"
      ]
     },
     "metadata": {},
     "output_type": "display_data"
    }
   ],
   "source": [
    "monthly_accidents = road_accident['Month'].value_counts().sort_index()\n",
    "plt.figure(figsize=(10, 6))\n",
    "monthly_accidents.plot(kind='bar', color='gray')\n",
    "plt.title('Total Accidents by Month')\n",
    "plt.xlabel('Month')\n",
    "plt.ylabel('Number of Accidents')\n",
    "plt.show()"
   ]
  },
  {
   "cell_type": "markdown",
   "id": "aab9cddf-fd47-464d-9745-f65f5fd9d1d9",
   "metadata": {},
   "source": [
    "<h1>INSIGHT 23</h1>\n",
    "<h3>The average number of casualties per year can be used to identify long-term safety trends. A decreasing average would suggest that road safety measures are becoming more effective over time</h3>"
   ]
  },
  {
   "cell_type": "code",
   "execution_count": 74,
   "id": "16e6a224-f5e3-4c77-abe7-60bde4a2b113",
   "metadata": {},
   "outputs": [
    {
     "data": {
      "image/png": "[encoded data removed]",
      "text/plain": [
       "<Figure size 1000x600 with 1 Axes>"
      ]
     },
     "metadata": {},
     "output_type": "display_data"
    }
   ],
   "source": [
    "light_counts = road_accident['Light_Conditions'].value_counts()\n",
    "plt.figure(figsize=(10, 6))\n",
    "light_counts.plot(kind='bar', color='darkslategray')\n",
    "plt.title('Total Accidents by Light Conditions')\n",
    "plt.xlabel('Light Conditions')\n",
    "plt.ylabel('Number of Accidents')\n",
    "plt.show()"
   ]
  },
  {
   "cell_type": "markdown",
   "id": "c3bd5a31-930f-4fe7-81af-f244c81ba10f",
   "metadata": {},
   "source": [
    "<h1>INSIGHT 24 </h1>\n",
    "<h3>The bar chart showing the number of accidents by Light_Conditions provides a clear visual summary of when most accidents occur. It reveals that the highest number of accidents happens during Daylight hours, which is likely a direct result of higher traffic volumes.</h3>"
   ]
  },
  {
   "cell_type": "code",
   "execution_count": 75,
   "id": "13f0cb47-637a-4016-a235-6930a153c4b8",
   "metadata": {},
   "outputs": [
    {
     "data": {
      "image/png": "[encoded data removed]",
      "text/plain": [
       "<Figure size 1200x800 with 1 Axes>"
      ]
     },
     "metadata": {},
     "output_type": "display_data"
    }
   ],
   "source": [
    "road_accident['Day_of_Week'] = road_accident['Accident Date'].dt.day_name()\n",
    "day_order = ['Monday', 'Tuesday', 'Wednesday', 'Thursday', 'Friday', 'Saturday', 'Sunday']\n",
    "day_severity_counts = road_accident.groupby(['Day_of_Week', 'Accident_Severity']).size().unstack(fill_value=0).reindex(day_order)\n",
    "day_severity_counts.plot(kind='bar', figsize=(12, 8))\n",
    "plt.title('Accident Count by Day of Week and Severity')\n",
    "plt.xlabel('Day of the Week')\n",
    "plt.ylabel('Number of Accidents')\n",
    "plt.legend(title='Accident Severity')\n",
    "plt.show()"
   ]
  },
  {
   "cell_type": "markdown",
   "id": "7e282c87-8798-43cd-95a0-eb2ec2271d1a",
   "metadata": {},
   "source": [
    "<h1>INSIGHT 25</h1>\n",
    "<h3>The bar chart provides a clear visualization of how accident severity is distributed across different days of the week. We can quickly identify trends, such as which day has the most \"Serious\" accidents or if a particular day has a high number of \"Fatal\" accidents relative to others.</h3>"
   ]
  },
  {
   "cell_type": "code",
   "execution_count": null,
   "id": "99052bf0-68dc-4193-9b53-fdd43311e70e",
   "metadata": {},
   "outputs": [],
   "source": []
  }
 ],
 "metadata": {
  "kernelspec": {
   "display_name": "Python 3 (ipykernel)",
   "language": "python",
   "name": "python3"
  },
  "language_info": {
   "codemirror_mode": {
    "name": "ipython",
    "version": 3
   },
   "file_extension": ".py",
   "mimetype": "text/x-python",
   "name": "python",
   "nbconvert_exporter": "python",
   "pygments_lexer": "ipython3",
   "version": "3.13.5"
  }
 },
 "nbformat": 4,
 "nbformat_minor": 5
}
